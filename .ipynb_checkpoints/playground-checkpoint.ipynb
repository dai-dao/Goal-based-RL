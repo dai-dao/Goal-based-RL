{
 "cells": [
  {
   "cell_type": "code",
   "execution_count": 2,
   "metadata": {},
   "outputs": [
    {
     "ename": "NameError",
     "evalue": "name 'inp_' is not defined",
     "output_type": "error",
     "traceback": [
      "\u001b[0;31m---------------------------------------------------------------------------\u001b[0m",
      "\u001b[0;31mNameError\u001b[0m                                 Traceback (most recent call last)",
      "\u001b[0;32m<ipython-input-2-b1869157d61c>\u001b[0m in \u001b[0;36m<module>\u001b[0;34m()\u001b[0m\n\u001b[1;32m      6\u001b[0m \u001b[0;34m\u001b[0m\u001b[0m\n\u001b[1;32m      7\u001b[0m \u001b[0mone_hot\u001b[0m \u001b[0;34m=\u001b[0m \u001b[0mtorch\u001b[0m\u001b[0;34m.\u001b[0m\u001b[0mFloatTensor\u001b[0m\u001b[0;34m(\u001b[0m\u001b[0;36m4\u001b[0m\u001b[0;34m,\u001b[0m \u001b[0;36m4\u001b[0m\u001b[0;34m)\u001b[0m\u001b[0;34m.\u001b[0m\u001b[0mzero_\u001b[0m\u001b[0;34m(\u001b[0m\u001b[0;34m)\u001b[0m\u001b[0;34m\u001b[0m\u001b[0m\n\u001b[0;32m----> 8\u001b[0;31m \u001b[0mone_hot\u001b[0m\u001b[0;34m.\u001b[0m\u001b[0mscatter_\u001b[0m\u001b[0;34m(\u001b[0m\u001b[0;36m2\u001b[0m\u001b[0;34m,\u001b[0m \u001b[0minp_\u001b[0m\u001b[0;34m,\u001b[0m \u001b[0;36m1\u001b[0m\u001b[0;34m)\u001b[0m\u001b[0;34m\u001b[0m\u001b[0m\n\u001b[0m\u001b[1;32m      9\u001b[0m \u001b[0;34m\u001b[0m\u001b[0m\n\u001b[1;32m     10\u001b[0m \u001b[0mprint\u001b[0m\u001b[0;34m(\u001b[0m\u001b[0minp\u001b[0m\u001b[0;34m)\u001b[0m\u001b[0;34m\u001b[0m\u001b[0m\n",
      "\u001b[0;31mNameError\u001b[0m: name 'inp_' is not defined"
     ]
    }
   ],
   "source": [
    "import torch\n",
    "\n",
    "# your tensor of 16 x 28 dimensions, \n",
    "# where each element has some index (0 to n)\n",
    "inp = torch.Tensor([0, 1, 2, 3])   \n",
    "\n",
    "one_hot = torch.FloatTensor(4, 4).zero_()\n",
    "one_hot.scatter_(2, inp_, 1)\n",
    "\n",
    "print(inp)\n",
    "print(one_hot)"
   ]
  },
  {
   "cell_type": "code",
   "execution_count": 3,
   "metadata": {},
   "outputs": [
    {
     "name": "stdout",
     "output_type": "stream",
     "text": [
      "Help on method_descriptor:\n",
      "\n",
      "scatter_(...)\n",
      "    scatter_(input, dim, index, src) -> Tensor\n",
      "    \n",
      "    Writes all values from the Tensor :attr:`src` into self at the indices specified\n",
      "    in the :attr:`index` Tensor. The indices are specified with respect to the\n",
      "    given dimension, dim, in the manner described in :meth:`~Tensor.gather`.\n",
      "    \n",
      "    Note that, as for gather, the values of index must be between `0` and `(self.size(dim) -1)`\n",
      "    inclusive and all values in a row along the specified dimension must be unique.\n",
      "    \n",
      "    Args:\n",
      "        input (Tensor): The source tensor\n",
      "        dim (int): The axis along which to index\n",
      "        index (LongTensor): The indices of elements to scatter\n",
      "        src (Tensor or float): The source element(s) to scatter\n",
      "    \n",
      "    Example::\n",
      "    \n",
      "        >>> x = torch.rand(2, 5)\n",
      "        >>> x\n",
      "    \n",
      "         0.4319  0.6500  0.4080  0.8760  0.2355\n",
      "         0.2609  0.4711  0.8486  0.8573  0.1029\n",
      "        [torch.FloatTensor of size 2x5]\n",
      "    \n",
      "        >>> torch.zeros(3, 5).scatter_(0, torch.LongTensor([[0, 1, 2, 0, 0], [2, 0, 0, 1, 2]]), x)\n",
      "    \n",
      "         0.4319  0.4711  0.8486  0.8760  0.2355\n",
      "         0.0000  0.6500  0.0000  0.8573  0.0000\n",
      "         0.2609  0.0000  0.4080  0.0000  0.1029\n",
      "        [torch.FloatTensor of size 3x5]\n",
      "    \n",
      "        >>> z = torch.zeros(2, 4).scatter_(1, torch.LongTensor([[2], [3]]), 1.23)\n",
      "        >>> z\n",
      "    \n",
      "         0.0000  0.0000  1.2300  0.0000\n",
      "         0.0000  0.0000  0.0000  1.2300\n",
      "        [torch.FloatTensor of size 2x4]\n",
      "\n"
     ]
    }
   ],
   "source": [
    "help(torch.FloatTensor.scatter_)"
   ]
  },
  {
   "cell_type": "code",
   "execution_count": 4,
   "metadata": {},
   "outputs": [
    {
     "data": {
      "text/plain": [
       "\n",
       " 0.0095  0.3463  0.7684  0.9152  0.7304\n",
       " 0.0000  0.5467  0.0000  0.8321  0.0000\n",
       " 0.4654  0.0000  0.2380  0.0000  0.8627\n",
       "[torch.FloatTensor of size 3x5]"
      ]
     },
     "execution_count": 4,
     "metadata": {},
     "output_type": "execute_result"
    }
   ],
   "source": [
    "x = torch.Tensor([0, 1, 2, 3])\n",
    "torch.zeros(3, 5).scatter_(0, torch.LongTensor([[0, 1, 2, 0, 0], [2, 0, 0, 1, 2]]), x)"
   ]
  },
  {
   "cell_type": "code",
   "execution_count": null,
   "metadata": {
    "collapsed": true
   },
   "outputs": [],
   "source": []
  }
 ],
 "metadata": {
  "kernelspec": {
   "display_name": "Python 3",
   "language": "python",
   "name": "python3"
  },
  "language_info": {
   "codemirror_mode": {
    "name": "ipython",
    "version": 3
   },
   "file_extension": ".py",
   "mimetype": "text/x-python",
   "name": "python",
   "nbconvert_exporter": "python",
   "pygments_lexer": "ipython3",
   "version": "3.6.1"
  }
 },
 "nbformat": 4,
 "nbformat_minor": 2
}
